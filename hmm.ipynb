{
 "cells": [
  {
   "cell_type": "code",
   "execution_count": 1,
   "metadata": {},
   "outputs": [],
   "source": [
    "import pickle\n",
    "import numpy as np\n",
    "\n",
    "NUM_NOTES = 89 # 88 + 1 for silence\n",
    "\n",
    "X_train = pickle.load(open('data/hmm/train_probs.pkl', 'rb'))\n",
    "X_test = pickle.load(open('data/hmm/test_probs.pkl', 'rb'))\n",
    "\n",
    "Y_train = pickle.load(open('data/hmm/train_notes.pkl', 'rb'))\n",
    "Y_test = pickle.load(open('data/hmm/test_notes.pkl', 'rb'))\n",
    "\n",
    "corpus = pickle.load(open('data/tdnn/target_train.pkl', 'rb'))"
   ]
  },
  {
   "cell_type": "code",
   "execution_count": 3,
   "metadata": {},
   "outputs": [],
   "source": [
    "from hmmlearn import hmm"
   ]
  },
  {
   "cell_type": "code",
   "execution_count": 4,
   "metadata": {},
   "outputs": [
    {
     "name": "stdout",
     "output_type": "stream",
     "text": [
      "(1005186, 89)\n[[False False False ..., False False  True]\n [False False False ..., False False  True]\n [False False False ..., False False  True]\n ..., \n [False False False ..., False False  True]\n [False False False ..., False False  True]\n [False False False ..., False False  True]]\n"
     ]
    }
   ],
   "source": [
    "# print(X_train[0:500])\n",
    "print(X_train.shape)\n",
    "\n",
    "print(corpus[0:100])"
   ]
  },
  {
   "cell_type": "code",
   "execution_count": 5,
   "metadata": {},
   "outputs": [],
   "source": [
    "note_hmm = hmm.GaussianHMM(n_components=NUM_NOTES, covariance_type=\"full\", n_iter=100)\n"
   ]
  },
  {
   "cell_type": "code",
   "execution_count": 6,
   "metadata": {},
   "outputs": [],
   "source": [
    "count_transitions = np.zeros((NUM_NOTES, NUM_NOTES))\n",
    "\n",
    "prev_note = 88\n",
    "for note in corpus:\n",
    "    count_transitions[prev_note, note] += 1\n",
    "    prev_note = note\n",
    "    \n",
    "# Plus 1 smoothing\n",
    "count_transitions = count_transitions + 0.01"
   ]
  },
  {
   "cell_type": "code",
   "execution_count": 7,
   "metadata": {},
   "outputs": [
    {
     "name": "stdout",
     "output_type": "stream",
     "text": [
      "[[  1.33230100e+04   1.60100000e+01   1.00100000e+01]\n [  1.10100000e+01   3.05290100e+04   1.20100000e+01]\n [  9.01000000e+00   6.01000000e+00   1.58990100e+04]]\n"
     ]
    }
   ],
   "source": [
    "print(count_transitions[50:53, 50:53])\n",
    "# print(count_transitions.sum())"
   ]
  },
  {
   "cell_type": "code",
   "execution_count": 8,
   "metadata": {},
   "outputs": [
    {
     "name": "stdout",
     "output_type": "stream",
     "text": [
      "[[  1.79920100e+04   1.30100000e+01   2.50100000e+01]\n [  7.01000000e+00   2.51840100e+04   1.90100000e+01]\n [  1.10100000e+01   8.01000000e+00   3.87320100e+04]]\n[    424.89     530.89     546.89     535.89     542.89     539.89\n     538.89     538.89     539.89     542.89     534.89     535.89\n     545.89     535.89     542.89     537.89     539.89     545.89\n     534.89     540.89     536.89     544.89     582.89     763.89\n    1224.89    1255.89     836.89    1667.89    2168.89    2621.89\n    3372.89    3120.89    9243.89    5059.89   13110.89   10355.89\n   12282.89   26701.89    8494.89   27985.89   18661.89   26109.89\n   39915.89   20202.89   46780.89   20025.89   43036.89   29742.89\n   27422.89   44686.89   13898.89   31536.89   16484.89   19723.89\n   18100.89    9072.89   13516.89    5556.89   10194.89    5797.89\n    4739.89    5591.89    1839.89    3372.89    1517.89    2105.89\n    1247.89    1016.89    1200.89    1019.89     577.89     654.89\n     540.89     540.89     541.89     544.89     542.89     540.89\n     536.89     543.89     539.89     541.89     535.89     544.89\n     539.89     544.89     543.89     538.89  368631.89]\n"
     ]
    }
   ],
   "source": [
    "print(count_transitions[40:43, 40:43])\n",
    "print(count_transitions.sum(axis=1))"
   ]
  },
  {
   "cell_type": "code",
   "execution_count": 9,
   "metadata": {},
   "outputs": [],
   "source": [
    "# Make count_transitions row-stochastic\n",
    "\n",
    "row_sums = count_transitions.sum(axis=1)\n",
    "count_transitions = count_transitions / row_sums[:, np.newaxis]"
   ]
  },
  {
   "cell_type": "code",
   "execution_count": 10,
   "metadata": {},
   "outputs": [
    {
     "name": "stdout",
     "output_type": "stream",
     "text": [
      "[[  9.62625621e-01   2.35355033e-05   2.35355033e-05 ...,   2.35355033e-05\n    2.35355033e-05   3.53267905e-02]\n [  1.88362938e-05   9.64437077e-01   1.88362938e-05 ...,   1.88362938e-05\n    1.88362938e-05   3.39241651e-02]\n [  1.82852127e-05   1.84680649e-03   9.65477518e-01 ...,   1.82852127e-05\n    1.82852127e-05   3.11031469e-02]\n ..., \n [  1.83860707e-05   1.83860707e-05   1.83860707e-05 ...,   9.65287098e-01\n    1.83860707e-05   3.12747063e-02]\n [  1.85566628e-05   1.85566628e-05   1.85566628e-05 ...,   1.85566628e-05\n    9.64965021e-01   3.34205496e-02]\n [  4.07181267e-05   4.61435933e-05   4.88563266e-05 ...,   4.88563266e-05\n    4.88563266e-05   9.48005367e-01]]\n"
     ]
    }
   ],
   "source": [
    "print(count_transitions)"
   ]
  },
  {
   "cell_type": "code",
   "execution_count": 11,
   "metadata": {},
   "outputs": [],
   "source": [
    "note_hmm.transmat_ = count_transitions"
   ]
  },
  {
   "cell_type": "code",
   "execution_count": 12,
   "metadata": {},
   "outputs": [
    {
     "name": "stdout",
     "output_type": "stream",
     "text": [
      "(89,)\n89\n"
     ]
    }
   ],
   "source": [
    "# Compute start probabilities as simply probability of presence of given note\n",
    "start_probs = np.zeros(89)\n",
    "\n",
    "for note_i in range(NUM_NOTES):\n",
    "    \n",
    "    start_probs[note_i] = len(np.argwhere(Y_train == note_i))\n",
    "    \n",
    "# Make start probabilities row-stochastic\n",
    "row_sum = start_probs.sum()\n",
    "start_probs = start_probs / row_sum\n",
    "\n",
    "# print(start_probs)\n",
    "\n",
    "note_hmm.startprob_ = start_probs\n",
    "\n",
    "print(start_probs.shape)\n",
    "print(len(note_hmm.startprob_))"
   ]
  },
  {
   "cell_type": "code",
   "execution_count": 13,
   "metadata": {
    "collapsed": true
   },
   "outputs": [
    {
     "name": "stdout",
     "output_type": "stream",
     "text": [
      "covariance shape: (89, 89)\ncovariance: [[  9.26543507e-03   7.60514529e-03  -2.37170447e-03 ...,  -1.36334529e-05\n   -1.28831965e-05  -2.40511189e-04]\n [  7.60514529e-03   1.46272743e-02   5.24101465e-04 ...,  -4.93074851e-05\n   -4.55931682e-05  -2.35982825e-03]\n [ -2.37170447e-03   5.24101465e-04   2.36733799e-03 ...,  -1.98430467e-05\n   -1.82276185e-05  -9.16176080e-04]\n ..., \n [ -1.36334529e-05  -4.93074851e-05  -1.98430467e-05 ...,   5.53312475e-07\n    5.09162776e-07   1.53054625e-05]\n [ -1.28831965e-05  -4.55931682e-05  -1.82276185e-05 ...,   5.09162776e-07\n    4.76685943e-07   1.38495161e-05]\n [ -2.40511189e-04  -2.35982825e-03  -9.16176080e-04 ...,   1.53054625e-05\n    1.38495161e-05   1.45129660e-03]]\n"
     ]
    }
   ],
   "source": [
    "# Compute Gaussians for each note\n",
    "\n",
    "means = np.zeros((NUM_NOTES, NUM_NOTES))\n",
    "covs = np.zeros((NUM_NOTES, NUM_NOTES, NUM_NOTES))\n",
    "\n",
    "for note_i in range(NUM_NOTES):\n",
    "    \n",
    "    probs = X_train[np.where(Y_train == note_i)]\n",
    "#     print(np.where(Y_train == note_i))\n",
    "    \n",
    "#     print(probs[0:10])\n",
    "    \n",
    "    mean = np.mean(probs, axis=0)\n",
    "    # print('probs shape: ' + str(probs.shape))\n",
    "    cov = np.cov(probs.T)\n",
    "    \n",
    "    if (note_i == 1):\n",
    "        \n",
    "        # print(\"mean: \" + str(mean))\n",
    "        print(\"covariance shape: \" + str(cov.shape))\n",
    "        print(\"covariance: \" + str(cov))\n",
    "        \n",
    "    means[note_i] = mean\n",
    "    \n",
    "    # Add identity here to make positive semidefinite\n",
    "    covs[note_i] = cov + 0.1 * np.identity(NUM_NOTES)"
   ]
  },
  {
   "cell_type": "code",
   "execution_count": 14,
   "metadata": {},
   "outputs": [],
   "source": [
    "note_hmm.means_ = means\n",
    "note_hmm.covars_ = covs\n",
    "\n",
    "# note_hmm.covars_ = np.tile(np.identity(NUM_NOTES), (NUM_NOTES, 1, 1))"
   ]
  },
  {
   "cell_type": "code",
   "execution_count": 15,
   "metadata": {},
   "outputs": [
    {
     "name": "stderr",
     "output_type": "stream",
     "text": [
      "/Users/connorhargus/.virtualenvs/midi/lib/python2.7/site-packages/sklearn/utils/deprecation.py:77: DeprecationWarning: Function log_multivariate_normal_density is deprecated; The function log_multivariate_normal_density is deprecated in 0.18 and will be removed in 0.20.\n  warnings.warn(msg, category=DeprecationWarning)\n"
     ]
    }
   ],
   "source": [
    "pred_hidden = note_hmm.predict(X_test)"
   ]
  },
  {
   "cell_type": "code",
   "execution_count": 16,
   "metadata": {},
   "outputs": [
    {
     "name": "stdout",
     "output_type": "stream",
     "text": [
      "X_test shape: (21906, 89)\nX_test type: <type 'numpy.ndarray'>\nfloat64\nfloat64\nfloat64\n"
     ]
    }
   ],
   "source": [
    ""
   ]
  },
  {
   "cell_type": "code",
   "execution_count": 53,
   "metadata": {
    "collapsed": true
   },
   "outputs": [
    {
     "name": "stdout",
     "output_type": "stream",
     "text": [
      "[88 88 88 88 88 88 88 88 88 88 88 88 88 88 88 88 88 88 88 88 88 88 88 88 88\n 88 88 88 88 88 88 88 88 88 88 88 88 88 88 88 88 88 88 88 88 88 88 88 88 88\n 88 88 88 88 88 88 88 88 88 88 88 88 88 88 88 88 88 88 88 88 88 88 88 88 88\n 88 88 88 88 88 88 88 88 88 88 88 88 88 88 88 88 88 88 88 88 88 88 88 88 88\n 88 41 41 41 41 41 41 41 41 41 41 41 41 41 41 41 41 41 41 41 41 41 88 44 44\n 44 44 44 44 44 44 44 44 44 44 44 44 44 44 44 44 44 44 44 44 44 44 44 44 44\n 88 88 46 46 46 46 46 46 46 46 46 46 46 46 46 46 46 46 46 46 46 46 46 46 46\n 46 46 48 48 48 48 48 48 48 48 48 48 48 48 48 48 48 48 48 48 48 48 48 48 48\n 48 48 48 48 48 48 48 48 48 48 48 48 48 48 48 48 48 48 48 48 48 48 48 48 48\n 48 48 48 48 48 48 48 48 48 48 48 48 48 48 48 48 48 48 48 48 48 48 48 48 48\n 48 48 48 48 48 48 48 48 48 48 48 48 48 48 48 48 48 48 88 88 88 88 88 88 88\n 88 88 88 51 51 51 51 51 51 51 51 51 51 51 51 51 51 51 52 52 52 48 48 48 48\n 48 48 48 48 48 48 48 48 48 48 48 48 88 46 46 46 46 46 46 46 46 46 46 46 46\n 46 46 46 44 44 44 44 44 44 44 44 44 44 44 44 44 44 44 41 41 41 41 41 41 41\n 41 41 41 41 41 41 41 41 41 41 41 41 44 44 44 44 44 44 44 44 44 44 44 44 44\n 46 46 46 46 46 46 46 46 46 46 46 46 47 47 48 48 48 48 48 48 88 51 51 51 51\n 51 51 51 51 51 51 51 51 51 51 51 51 51 51 51 51 51 51 51 51 51 51 51 51 51\n 51 51 51 51 51 51 51 51 51 51 51 51 51 51 51 51 51 51 51 51 51 51 51 51 51\n 51 51 51 51 51 51 51 51 51 51 51 51 51 51 51 51 51 51 51 51 51 51 51 51 51\n 51 51 51 51 51 51 51 51 51 51 51 88 88 88 88 88 88 88 88 88 88 88 88 88 88\n 88 88 88 88 88 88 88 88 88 88 88 88 88 88 88 88 88 88 88 88 88 88 48 48 48\n 48 48 48 48 48 88 51 51 51 51 51 51 51 51 51 51 51 51 51 51 51 51 51 51 51\n 51 51 51 51 51 51 51 51 51 51 51 51 51 51 51 51 51 51 88 88 88 88 88 88 88\n 48 48 48 48 48 48 48 48 48 48 48 48 48 48 88 46 46 46 46 46 46 46 46 46 46\n 46 46 88 44 44 44 44 44 44 44 44 44 44 44 44 44 44 41 41 41 41 41 41 41 41\n 41 41 41 41 41 41 41 41 41 41 41 41 41 41 41 41 41 41 41 41 41 41 41 41 41\n 88 88 88 88 88 88 88 88 88 88 88 88 88 88 88 88 88 88 88 88 88 88 88 88 88\n 88 88 88 88 88 88 88 88 88 88 88 88 88 88 88 88 88 88 88 88 88 88 88 88 88\n 88 88 88 88 88 88 88 88 88 88 88 88 88 88 88 88 88 88 88 88 88 88 88 88 88\n 88 88 88 88 88 88 88 88 88 88 88 88 88 88 88 88 88 88 88 88 88 88 88 88 88\n 88 88 88 88 88 88 88 88 88 88 88 88 88 88 88 88 88 88 88 88 88 88 88 88 88\n 88 88 88 88 88 88 88 88 88 88 88 88 88 88 88 88 88 88 88 88 88 88 88 88 88\n 88 88 88 88 88 88 88 88 88 88 88 88 88 88 88 88 88 88 88 88 88 88 88 88 88\n 88 88 88 88 88 88 88 88 88 88 88 88 88 88 88 88 88 88 88 88 88 88 88 88 88\n 88 88 88 88 88 88 88 88 88 88 88 88 88 88 88 88 88 88 88 88 88 88 88 88 88\n 88 88 88 88 88 88 88 88 41 41 41 41 41 41 41 41 41 41 41 41 88 44 44 44 44\n 44 44 44 44 44 44 44 44 44 44 44 44 46 46 46 46 46 46 46 46 46 46 46 88 48\n 48 48 48 48 48 48 48 48 48 48 48 48 48 48 51 51 51 51 51 51 51 51 51 51 51\n 51 51 51 51 51 51 51 51 51 51 51 51 51 51 51 51 51 51 51 51 51 51 51 51 51\n 51 51 51 51 51 51 51 51 51 51 51 51 51 51 51 51 51 51 51 51 51 51 51 51 51]\n"
     ]
    }
   ],
   "source": [
    "print(pred_hidden[3000:4000])"
   ]
  },
  {
   "cell_type": "code",
   "execution_count": 54,
   "metadata": {},
   "outputs": [
    {
     "name": "stdout",
     "output_type": "stream",
     "text": [
      "[88 88 88 88 88 88 88 88 88 88 88 88 88 88 88 88 88 88 88 88 88 88 88 88 88\n 88 88 88 88 88 88 88 88 88 88 88 88 88 88 88 88 88 88 88 88 88 88 88 88 88\n 88 88 88 88 88 88 88 88 88 88 88 88 88 88 88 88 88 88 88 88 88 88 88 88 88\n 88 88 88 88 88 88 88 88 88 88 88 88 88 88 88 88 88 88 88 88 88 88 88 88 88\n 41 41 41 41 41 41 41 41 41 41 41 41 41 41 41 41 41 41 41 41 41 41 41 44 44\n 44 44 44 44 44 44 44 44 44 44 44 44 44 44 44 44 44 44 44 44 44 44 44 44 88\n 88 88 88 46 46 46 46 46 46 46 46 46 46 46 46 46 46 46 46 46 46 46 46 46 46\n 46 46 48 48 48 48 48 48 48 48 48 48 48 48 48 48 48 48 48 48 48 48 48 48 48\n 48 48 48 48 48 48 48 48 48 48 48 48 48 48 48 48 48 48 48 48 48 48 48 48 48\n 48 48 48 48 48 48 48 48 48 48 48 48 48 48 48 48 48 48 48 48 48 48 48 48 48\n 48 48 48 48 48 48 48 48 48 48 48 48 48 48 48 48 48 48 48 88 88 88 88 88 88\n 88 88 88 51 51 51 51 51 51 51 51 51 51 51 51 51 51 51 51 51 51 48 48 48 48\n 48 48 48 48 48 48 48 48 48 48 48 48 46 46 46 46 46 46 46 46 46 46 46 46 46\n 46 46 44 44 44 44 44 44 44 44 44 44 44 44 44 44 44 44 41 41 41 41 41 41 41\n 41 41 41 41 41 41 41 41 41 41 41 41 44 44 44 44 44 44 44 44 44 44 44 44 44\n 46 46 46 46 46 46 46 46 46 46 46 46 46 48 48 48 48 48 48 48 48 51 51 51 51\n 51 51 51 51 51 51 51 51 51 51 51 51 51 51 51 51 51 51 51 51 51 51 51 51 51\n 51 51 51 51 51 51 51 51 51 51 51 51 51 51 51 51 51 51 51 51 51 51 51 51 51\n 51 51 51 51 51 51 51 51 51 51 51 51 51 51 51 51 51 51 51 51 51 51 51 51 51\n 51 51 51 51 51 51 51 51 51 51 51 51 88 88 88 88 88 88 88 88 88 88 88 88 88\n 88 88 88 88 88 88 88 88 88 88 88 88 88 88 88 88 88 88 88 88 88 88 88 48 48\n 48 48 48 48 48 48 51 51 51 51 51 51 51 51 51 51 51 51 51 51 51 51 51 51 51\n 51 51 51 51 51 51 51 51 51 51 51 51 51 51 51 51 51 88 88 88 88 88 88 88 88\n 48 48 48 48 48 48 48 48 48 48 48 48 48 48 48 46 46 46 46 46 46 46 46 46 46\n 46 46 88 44 44 44 44 44 44 44 44 44 44 44 44 44 44 41 41 41 41 41 41 41 41\n 41 41 41 41 41 41 41 41 41 41 41 41 41 41 41 41 41 41 41 41 41 41 41 41 41\n 88 88 88 88 88 88 88 88 88 88 88 88 88 88 88 88 88 88 88 88 88 88 88 88 88\n 88 88 88 88 88 88 88 88 88 88 88 88 88 88 88 88 88 88 88 88 88 88 88 88 88\n 88 88 88 88 88 88 88 88 88 88 88 88 88 88 88 88 88 88 88 88 88 88 88 88 88\n 88 88 88 88 88 88 88 88 88 88 88 88 88 88 88 88 88 88 88 88 88 88 88 88 88\n 88 88 88 88 88 88 88 88 88 88 88 88 88 88 88 88 88 88 88 88 88 88 88 88 88\n 88 88 88 88 88 88 88 88 88 88 88 88 88 88 88 88 88 88 88 88 88 88 88 88 88\n 88 88 88 88 88 88 88 88 88 88 88 88 88 88 88 88 88 88 88 88 88 88 88 88 88\n 88 88 88 88 88 88 88 88 88 88 88 88 88 88 88 88 88 88 88 88 88 88 88 88 88\n 88 88 88 88 88 88 88 88 88 88 88 88 88 88 88 88 88 88 88 88 88 88 88 88 88\n 88 88 88 88 88 88 88 88 41 41 41 41 41 41 41 41 41 41 41 41 41 44 44 44 44\n 44 44 44 44 44 44 44 44 44 44 44 44 46 46 46 46 46 46 46 46 46 46 46 46 48\n 48 48 48 48 48 48 48 48 48 48 48 48 48 88 51 51 51 51 51 51 51 51 51 51 51\n 51 51 51 51 51 51 51 51 51 51 51 51 51 51 51 51 51 51 51 51 51 51 51 51 51\n 51 51 51 51 51 51 51 51 51 51 51 51 51 51 51 51 51 51 51 51 51 51 51 51 51]\n"
     ]
    }
   ],
   "source": [
    "print(Y_test[3000:4000])"
   ]
  },
  {
   "cell_type": "code",
   "execution_count": 55,
   "metadata": {},
   "outputs": [],
   "source": [
    "def get_accuracy(actual, pred):\n",
    "    matches = 0\n",
    "    for i in range(len(pred)):\n",
    "        if int(pred[i]) == int(actual[i]):\n",
    "            matches += 1\n",
    "    \n",
    "    print(\"Accuracy: \" + str(float(matches) / len(pred_hidden)))"
   ]
  },
  {
   "cell_type": "code",
   "execution_count": 56,
   "metadata": {},
   "outputs": [
    {
     "name": "stdout",
     "output_type": "stream",
     "text": [
      "Accuracy: 0.981283666575\n"
     ]
    }
   ],
   "source": [
    "get_accuracy(Y_test, pred_hidden)"
   ]
  },
  {
   "cell_type": "code",
   "execution_count": 57,
   "metadata": {},
   "outputs": [
    {
     "name": "stdout",
     "output_type": "stream",
     "text": [
      "Accuracy: 0.978362092577\n"
     ]
    }
   ],
   "source": [
    "max_prob_pred = np.argmax(X_test, axis=1)\n",
    "\n",
    "get_accuracy(Y_test, max_prob_pred)"
   ]
  },
  {
   "cell_type": "code",
   "execution_count": null,
   "metadata": {},
   "outputs": [],
   "source": []
  }
 ],
 "metadata": {
  "kernelspec": {
   "display_name": "Python 2",
   "language": "python",
   "name": "python2"
  },
  "language_info": {
   "codemirror_mode": {
    "name": "ipython",
    "version": 2
   },
   "file_extension": ".py",
   "mimetype": "text/x-python",
   "name": "python",
   "nbconvert_exporter": "python",
   "pygments_lexer": "ipython2",
   "version": "2.7.10"
  }
 },
 "nbformat": 4,
 "nbformat_minor": 1
}
